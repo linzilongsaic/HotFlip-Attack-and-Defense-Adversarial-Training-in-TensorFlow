{
 "cells": [
  {
   "cell_type": "code",
   "execution_count": 4,
   "metadata": {},
   "outputs": [],
   "source": [
    "import numpy as np\n",
    "from keras.models import Sequential\n",
    "from keras.layers import Dense\n",
    "from keras import backend as K\n",
    "import tensorflow as tf"
   ]
  },
  {
   "cell_type": "code",
   "execution_count": 9,
   "metadata": {},
   "outputs": [
    {
     "name": "stdout",
     "output_type": "stream",
     "text": [
      "Epoch 1/100\n",
      "1/1 [==============================] - 0s 55ms/step - loss: 1.8726\n",
      "Epoch 2/100\n",
      "1/1 [==============================] - 0s 1ms/step - loss: 1.8659\n",
      "Epoch 3/100\n",
      "1/1 [==============================] - 0s 1ms/step - loss: 1.8569\n",
      "Epoch 4/100\n",
      "1/1 [==============================] - 0s 1ms/step - loss: 1.8479\n",
      "Epoch 5/100\n",
      "1/1 [==============================] - 0s 1ms/step - loss: 1.8389\n",
      "Epoch 6/100\n",
      "1/1 [==============================] - 0s 1ms/step - loss: 1.8299\n",
      "Epoch 7/100\n",
      "1/1 [==============================] - 0s 839us/step - loss: 1.8209\n",
      "Epoch 8/100\n",
      "1/1 [==============================] - 0s 990us/step - loss: 1.8119\n",
      "Epoch 9/100\n",
      "1/1 [==============================] - 0s 1ms/step - loss: 1.8029\n",
      "Epoch 10/100\n",
      "1/1 [==============================] - 0s 1ms/step - loss: 1.7939\n",
      "Epoch 11/100\n",
      "1/1 [==============================] - 0s 1ms/step - loss: 1.7849\n",
      "Epoch 12/100\n",
      "1/1 [==============================] - 0s 865us/step - loss: 1.7759\n",
      "Epoch 13/100\n",
      "1/1 [==============================] - 0s 952us/step - loss: 1.7669\n",
      "Epoch 14/100\n",
      "1/1 [==============================] - 0s 830us/step - loss: 1.7579\n",
      "Epoch 15/100\n",
      "1/1 [==============================] - 0s 757us/step - loss: 1.7489\n",
      "Epoch 16/100\n",
      "1/1 [==============================] - 0s 875us/step - loss: 1.7399\n",
      "Epoch 17/100\n",
      "1/1 [==============================] - 0s 1ms/step - loss: 1.7309\n",
      "Epoch 18/100\n",
      "1/1 [==============================] - 0s 1ms/step - loss: 1.7219\n",
      "Epoch 19/100\n",
      "1/1 [==============================] - 0s 3ms/step - loss: 1.7129\n",
      "Epoch 20/100\n",
      "1/1 [==============================] - 0s 2ms/step - loss: 1.7039\n"
     ]
    },
    {
     "name": "stderr",
     "output_type": "stream",
     "text": [
      "/anaconda3/lib/python3.7/site-packages/ipykernel_launcher.py:7: UserWarning: The `nb_epoch` argument in `fit` has been renamed `epochs`.\n",
      "  import sys\n"
     ]
    },
    {
     "name": "stdout",
     "output_type": "stream",
     "text": [
      "Epoch 21/100\n",
      "1/1 [==============================] - 0s 2ms/step - loss: 1.6949\n",
      "Epoch 22/100\n",
      "1/1 [==============================] - 0s 4ms/step - loss: 1.6859\n",
      "Epoch 23/100\n",
      "1/1 [==============================] - 0s 4ms/step - loss: 1.6769\n",
      "Epoch 24/100\n",
      "1/1 [==============================] - 0s 5ms/step - loss: 1.6679\n",
      "Epoch 25/100\n",
      "1/1 [==============================] - 0s 2ms/step - loss: 1.6589\n",
      "Epoch 26/100\n",
      "1/1 [==============================] - 0s 2ms/step - loss: 1.6499\n",
      "Epoch 27/100\n",
      "1/1 [==============================] - 0s 5ms/step - loss: 1.6409\n",
      "Epoch 28/100\n",
      "1/1 [==============================] - 0s 1ms/step - loss: 1.6319\n",
      "Epoch 29/100\n",
      "1/1 [==============================] - 0s 2ms/step - loss: 1.6229\n",
      "Epoch 30/100\n",
      "1/1 [==============================] - 0s 8ms/step - loss: 1.6139\n",
      "Epoch 31/100\n",
      "1/1 [==============================] - 0s 2ms/step - loss: 1.6049\n",
      "Epoch 32/100\n",
      "1/1 [==============================] - 0s 3ms/step - loss: 1.5959\n",
      "Epoch 33/100\n",
      "1/1 [==============================] - 0s 1ms/step - loss: 1.5869\n",
      "Epoch 34/100\n",
      "1/1 [==============================] - 0s 1ms/step - loss: 1.5779\n",
      "Epoch 35/100\n",
      "1/1 [==============================] - 0s 2ms/step - loss: 1.5689\n",
      "Epoch 36/100\n",
      "1/1 [==============================] - 0s 964us/step - loss: 1.5598\n",
      "Epoch 37/100\n",
      "1/1 [==============================] - 0s 1ms/step - loss: 1.5508\n",
      "Epoch 38/100\n",
      "1/1 [==============================] - 0s 2ms/step - loss: 1.5418\n",
      "Epoch 39/100\n",
      "1/1 [==============================] - 0s 1ms/step - loss: 1.5328\n",
      "Epoch 40/100\n",
      "1/1 [==============================] - 0s 1ms/step - loss: 1.5238\n",
      "Epoch 41/100\n",
      "1/1 [==============================] - 0s 1ms/step - loss: 1.5148\n",
      "Epoch 42/100\n",
      "1/1 [==============================] - 0s 1ms/step - loss: 1.5058\n",
      "Epoch 43/100\n",
      "1/1 [==============================] - 0s 1ms/step - loss: 1.4968\n",
      "Epoch 44/100\n",
      "1/1 [==============================] - 0s 956us/step - loss: 1.4878\n",
      "Epoch 45/100\n",
      "1/1 [==============================] - 0s 1ms/step - loss: 1.4788\n",
      "Epoch 46/100\n",
      "1/1 [==============================] - 0s 957us/step - loss: 1.4698\n",
      "Epoch 47/100\n",
      "1/1 [==============================] - 0s 1ms/step - loss: 1.4608\n",
      "Epoch 48/100\n",
      "1/1 [==============================] - 0s 1ms/step - loss: 1.4518\n",
      "Epoch 49/100\n",
      "1/1 [==============================] - 0s 2ms/step - loss: 1.4428\n",
      "Epoch 50/100\n",
      "1/1 [==============================] - 0s 1ms/step - loss: 1.4338\n",
      "Epoch 51/100\n",
      "1/1 [==============================] - 0s 1ms/step - loss: 1.4248\n",
      "Epoch 52/100\n",
      "1/1 [==============================] - 0s 2ms/step - loss: 1.4158\n",
      "Epoch 53/100\n",
      "1/1 [==============================] - 0s 1ms/step - loss: 1.4068\n",
      "Epoch 54/100\n",
      "1/1 [==============================] - 0s 833us/step - loss: 1.3978\n",
      "Epoch 55/100\n",
      "1/1 [==============================] - 0s 880us/step - loss: 1.3888\n",
      "Epoch 56/100\n",
      "1/1 [==============================] - 0s 1ms/step - loss: 1.3798\n",
      "Epoch 57/100\n",
      "1/1 [==============================] - 0s 763us/step - loss: 1.3708\n",
      "Epoch 58/100\n",
      "1/1 [==============================] - 0s 917us/step - loss: 1.3618\n",
      "Epoch 59/100\n",
      "1/1 [==============================] - 0s 1ms/step - loss: 1.3528\n",
      "Epoch 60/100\n",
      "1/1 [==============================] - 0s 1ms/step - loss: 1.3438\n",
      "Epoch 61/100\n",
      "1/1 [==============================] - 0s 1ms/step - loss: 1.3348\n",
      "Epoch 62/100\n",
      "1/1 [==============================] - 0s 2ms/step - loss: 1.3258\n",
      "Epoch 63/100\n",
      "1/1 [==============================] - 0s 1ms/step - loss: 1.3168\n",
      "Epoch 64/100\n",
      "1/1 [==============================] - 0s 963us/step - loss: 1.3078\n",
      "Epoch 65/100\n",
      "1/1 [==============================] - 0s 1ms/step - loss: 1.2988\n",
      "Epoch 66/100\n",
      "1/1 [==============================] - 0s 1ms/step - loss: 1.2898\n",
      "Epoch 67/100\n",
      "1/1 [==============================] - 0s 1ms/step - loss: 1.2808\n",
      "Epoch 68/100\n",
      "1/1 [==============================] - 0s 1ms/step - loss: 1.2718\n",
      "Epoch 69/100\n",
      "1/1 [==============================] - 0s 959us/step - loss: 1.2628\n",
      "Epoch 70/100\n",
      "1/1 [==============================] - 0s 1ms/step - loss: 1.2538\n",
      "Epoch 71/100\n",
      "1/1 [==============================] - 0s 1ms/step - loss: 1.2448\n",
      "Epoch 72/100\n",
      "1/1 [==============================] - 0s 1ms/step - loss: 1.2358\n",
      "Epoch 73/100\n",
      "1/1 [==============================] - 0s 1ms/step - loss: 1.2267\n",
      "Epoch 74/100\n",
      "1/1 [==============================] - 0s 1ms/step - loss: 1.2177\n",
      "Epoch 75/100\n",
      "1/1 [==============================] - 0s 993us/step - loss: 1.2087\n",
      "Epoch 76/100\n",
      "1/1 [==============================] - 0s 1ms/step - loss: 1.1997\n",
      "Epoch 77/100\n",
      "1/1 [==============================] - 0s 1ms/step - loss: 1.1907\n",
      "Epoch 78/100\n",
      "1/1 [==============================] - 0s 1ms/step - loss: 1.1817\n",
      "Epoch 79/100\n",
      "1/1 [==============================] - 0s 1ms/step - loss: 1.1726\n",
      "Epoch 80/100\n",
      "1/1 [==============================] - 0s 1ms/step - loss: 1.1636\n",
      "Epoch 81/100\n",
      "1/1 [==============================] - 0s 803us/step - loss: 1.1546\n",
      "Epoch 82/100\n",
      "1/1 [==============================] - 0s 895us/step - loss: 1.1456\n",
      "Epoch 83/100\n",
      "1/1 [==============================] - 0s 1ms/step - loss: 1.1366\n",
      "Epoch 84/100\n",
      "1/1 [==============================] - 0s 1ms/step - loss: 1.1276\n",
      "Epoch 85/100\n",
      "1/1 [==============================] - 0s 1ms/step - loss: 1.1186\n",
      "Epoch 86/100\n",
      "1/1 [==============================] - 0s 878us/step - loss: 1.1096\n",
      "Epoch 87/100\n",
      "1/1 [==============================] - 0s 957us/step - loss: 1.1006\n",
      "Epoch 88/100\n",
      "1/1 [==============================] - 0s 2ms/step - loss: 1.0916\n",
      "Epoch 89/100\n",
      "1/1 [==============================] - 0s 981us/step - loss: 1.0826\n",
      "Epoch 90/100\n",
      "1/1 [==============================] - 0s 1ms/step - loss: 1.0736\n",
      "Epoch 91/100\n",
      "1/1 [==============================] - 0s 975us/step - loss: 1.0646\n",
      "Epoch 92/100\n",
      "1/1 [==============================] - 0s 955us/step - loss: 1.0556\n",
      "Epoch 93/100\n",
      "1/1 [==============================] - 0s 1ms/step - loss: 1.0466\n",
      "Epoch 94/100\n",
      "1/1 [==============================] - 0s 1ms/step - loss: 1.0376\n",
      "Epoch 95/100\n",
      "1/1 [==============================] - 0s 1ms/step - loss: 1.0286\n",
      "Epoch 96/100\n",
      "1/1 [==============================] - 0s 1ms/step - loss: 1.0196\n",
      "Epoch 97/100\n",
      "1/1 [==============================] - 0s 1ms/step - loss: 1.0106\n",
      "Epoch 98/100\n",
      "1/1 [==============================] - 0s 1ms/step - loss: 1.0016\n",
      "Epoch 99/100\n",
      "1/1 [==============================] - 0s 2ms/step - loss: 0.9926\n",
      "Epoch 100/100\n",
      "1/1 [==============================] - 0s 1ms/step - loss: 0.9836\n"
     ]
    },
    {
     "name": "stderr",
     "output_type": "stream",
     "text": [
      "/anaconda3/lib/python3.7/site-packages/tensorflow/python/client/session.py:1735: UserWarning: An interactive session is already active. This can cause out-of-memory errors in some cases. You must explicitly call `InteractiveSession.close()` to release resources held by the other session(s).\n",
      "  warnings.warn('An interactive session is already active. This can '\n"
     ]
    }
   ],
   "source": [
    "X = np.array([8.])\n",
    "B = np.array([2.])\n",
    "model = Sequential()\n",
    "model.add(Dense(input_shape=(1,), bias_initializer=\"ones\", units=1))\n",
    "\n",
    "model.compile(loss='mae', optimizer='adam')\n",
    "model.fit(X, B, nb_epoch=100,batch_size=1)"
   ]
  },
  {
   "cell_type": "code",
   "execution_count": 20,
   "metadata": {},
   "outputs": [
    {
     "name": "stdout",
     "output_type": "stream",
     "text": [
      "_________________________________________________________________\n",
      "Layer (type)                 Output Shape              Param #   \n",
      "=================================================================\n",
      "embedding_1 (Embedding)      (None, None, 128)         2560000   \n",
      "_________________________________________________________________\n",
      "lstm_1 (LSTM)                (None, 128)               131584    \n",
      "_________________________________________________________________\n",
      "dense_4 (Dense)              (None, 1)                 129       \n",
      "=================================================================\n",
      "Total params: 2,691,713\n",
      "Trainable params: 2,691,713\n",
      "Non-trainable params: 0\n",
      "_________________________________________________________________\n"
     ]
    }
   ],
   "source": [
    "model.summary()"
   ]
  },
  {
   "cell_type": "code",
   "execution_count": 21,
   "metadata": {},
   "outputs": [
    {
     "data": {
      "text/plain": [
       "<tf.Tensor 'embedding_1_input:0' shape=(?, ?) dtype=float32>"
      ]
     },
     "execution_count": 21,
     "metadata": {},
     "output_type": "execute_result"
    }
   ],
   "source": [
    "model.input"
   ]
  },
  {
   "cell_type": "code",
   "execution_count": 22,
   "metadata": {},
   "outputs": [
    {
     "data": {
      "text/plain": [
       "<tf.Tensor 'dense_4/Sigmoid:0' shape=(?, 1) dtype=float32>"
      ]
     },
     "execution_count": 22,
     "metadata": {},
     "output_type": "execute_result"
    }
   ],
   "source": [
    "model.output"
   ]
  },
  {
   "cell_type": "code",
   "execution_count": 23,
   "metadata": {},
   "outputs": [
    {
     "data": {
      "text/plain": [
       "[<keras.layers.embeddings.Embedding at 0x10c178e80>,\n",
       " <keras.layers.recurrent.LSTM at 0xb2aba1c18>,\n",
       " <keras.layers.core.Dense at 0xb2abdb4a8>]"
      ]
     },
     "execution_count": 23,
     "metadata": {},
     "output_type": "execute_result"
    }
   ],
   "source": [
    "model.layers"
   ]
  },
  {
   "cell_type": "code",
   "execution_count": 24,
   "metadata": {},
   "outputs": [
    {
     "name": "stderr",
     "output_type": "stream",
     "text": [
      "/anaconda3/lib/python3.7/site-packages/tensorflow/python/client/session.py:1735: UserWarning: An interactive session is already active. This can cause out-of-memory errors in some cases. You must explicitly call `InteractiveSession.close()` to release resources held by the other session(s).\n",
      "  warnings.warn('An interactive session is already active. This can '\n"
     ]
    },
    {
     "ename": "TypeError",
     "evalue": "Fetch argument None has invalid type <class 'NoneType'>",
     "output_type": "error",
     "traceback": [
      "\u001b[0;31m---------------------------------------------------------------------------\u001b[0m",
      "\u001b[0;31mTypeError\u001b[0m                                 Traceback (most recent call last)",
      "\u001b[0;32m<ipython-input-24-855884f14ac1>\u001b[0m in \u001b[0;36m<module>\u001b[0;34m\u001b[0m\n\u001b[1;32m      4\u001b[0m \u001b[0msess\u001b[0m \u001b[0;34m=\u001b[0m \u001b[0mtf\u001b[0m\u001b[0;34m.\u001b[0m\u001b[0mInteractiveSession\u001b[0m\u001b[0;34m(\u001b[0m\u001b[0;34m)\u001b[0m\u001b[0;34m\u001b[0m\u001b[0;34m\u001b[0m\u001b[0m\n\u001b[1;32m      5\u001b[0m \u001b[0msess\u001b[0m\u001b[0;34m.\u001b[0m\u001b[0mrun\u001b[0m\u001b[0;34m(\u001b[0m\u001b[0mtf\u001b[0m\u001b[0;34m.\u001b[0m\u001b[0minitialize_all_variables\u001b[0m\u001b[0;34m(\u001b[0m\u001b[0;34m)\u001b[0m\u001b[0;34m)\u001b[0m\u001b[0;34m\u001b[0m\u001b[0;34m\u001b[0m\u001b[0m\n\u001b[0;32m----> 6\u001b[0;31m \u001b[0mevaluated_gradients\u001b[0m \u001b[0;34m=\u001b[0m \u001b[0msess\u001b[0m\u001b[0;34m.\u001b[0m\u001b[0mrun\u001b[0m\u001b[0;34m(\u001b[0m\u001b[0mgradients\u001b[0m\u001b[0;34m,\u001b[0m\u001b[0mfeed_dict\u001b[0m\u001b[0;34m=\u001b[0m\u001b[0;34m{\u001b[0m\u001b[0mmodel\u001b[0m\u001b[0;34m.\u001b[0m\u001b[0minput\u001b[0m\u001b[0;34m:\u001b[0m\u001b[0mX\u001b[0m\u001b[0;34m[\u001b[0m\u001b[0;36m0\u001b[0m\u001b[0;34m]\u001b[0m\u001b[0;34m.\u001b[0m\u001b[0mreshape\u001b[0m\u001b[0;34m(\u001b[0m\u001b[0;34m-\u001b[0m\u001b[0;36m1\u001b[0m\u001b[0;34m,\u001b[0m\u001b[0;36m1\u001b[0m\u001b[0;34m)\u001b[0m\u001b[0;34m}\u001b[0m\u001b[0;34m)\u001b[0m\u001b[0;34m\u001b[0m\u001b[0;34m\u001b[0m\u001b[0m\n\u001b[0m",
      "\u001b[0;32m/anaconda3/lib/python3.7/site-packages/tensorflow/python/client/session.py\u001b[0m in \u001b[0;36mrun\u001b[0;34m(self, fetches, feed_dict, options, run_metadata)\u001b[0m\n\u001b[1;32m    948\u001b[0m     \u001b[0;32mtry\u001b[0m\u001b[0;34m:\u001b[0m\u001b[0;34m\u001b[0m\u001b[0;34m\u001b[0m\u001b[0m\n\u001b[1;32m    949\u001b[0m       result = self._run(None, fetches, feed_dict, options_ptr,\n\u001b[0;32m--> 950\u001b[0;31m                          run_metadata_ptr)\n\u001b[0m\u001b[1;32m    951\u001b[0m       \u001b[0;32mif\u001b[0m \u001b[0mrun_metadata\u001b[0m\u001b[0;34m:\u001b[0m\u001b[0;34m\u001b[0m\u001b[0;34m\u001b[0m\u001b[0m\n\u001b[1;32m    952\u001b[0m         \u001b[0mproto_data\u001b[0m \u001b[0;34m=\u001b[0m \u001b[0mtf_session\u001b[0m\u001b[0;34m.\u001b[0m\u001b[0mTF_GetBuffer\u001b[0m\u001b[0;34m(\u001b[0m\u001b[0mrun_metadata_ptr\u001b[0m\u001b[0;34m)\u001b[0m\u001b[0;34m\u001b[0m\u001b[0;34m\u001b[0m\u001b[0m\n",
      "\u001b[0;32m/anaconda3/lib/python3.7/site-packages/tensorflow/python/client/session.py\u001b[0m in \u001b[0;36m_run\u001b[0;34m(self, handle, fetches, feed_dict, options, run_metadata)\u001b[0m\n\u001b[1;32m   1156\u001b[0m     \u001b[0;31m# Create a fetch handler to take care of the structure of fetches.\u001b[0m\u001b[0;34m\u001b[0m\u001b[0;34m\u001b[0m\u001b[0;34m\u001b[0m\u001b[0m\n\u001b[1;32m   1157\u001b[0m     fetch_handler = _FetchHandler(\n\u001b[0;32m-> 1158\u001b[0;31m         self._graph, fetches, feed_dict_tensor, feed_handles=feed_handles)\n\u001b[0m\u001b[1;32m   1159\u001b[0m \u001b[0;34m\u001b[0m\u001b[0m\n\u001b[1;32m   1160\u001b[0m     \u001b[0;31m# Run request and get response.\u001b[0m\u001b[0;34m\u001b[0m\u001b[0;34m\u001b[0m\u001b[0;34m\u001b[0m\u001b[0m\n",
      "\u001b[0;32m/anaconda3/lib/python3.7/site-packages/tensorflow/python/client/session.py\u001b[0m in \u001b[0;36m__init__\u001b[0;34m(self, graph, fetches, feeds, feed_handles)\u001b[0m\n\u001b[1;32m    472\u001b[0m     \"\"\"\n\u001b[1;32m    473\u001b[0m     \u001b[0;32mwith\u001b[0m \u001b[0mgraph\u001b[0m\u001b[0;34m.\u001b[0m\u001b[0mas_default\u001b[0m\u001b[0;34m(\u001b[0m\u001b[0;34m)\u001b[0m\u001b[0;34m:\u001b[0m\u001b[0;34m\u001b[0m\u001b[0;34m\u001b[0m\u001b[0m\n\u001b[0;32m--> 474\u001b[0;31m       \u001b[0mself\u001b[0m\u001b[0;34m.\u001b[0m\u001b[0m_fetch_mapper\u001b[0m \u001b[0;34m=\u001b[0m \u001b[0m_FetchMapper\u001b[0m\u001b[0;34m.\u001b[0m\u001b[0mfor_fetch\u001b[0m\u001b[0;34m(\u001b[0m\u001b[0mfetches\u001b[0m\u001b[0;34m)\u001b[0m\u001b[0;34m\u001b[0m\u001b[0;34m\u001b[0m\u001b[0m\n\u001b[0m\u001b[1;32m    475\u001b[0m     \u001b[0mself\u001b[0m\u001b[0;34m.\u001b[0m\u001b[0m_fetches\u001b[0m \u001b[0;34m=\u001b[0m \u001b[0;34m[\u001b[0m\u001b[0;34m]\u001b[0m\u001b[0;34m\u001b[0m\u001b[0;34m\u001b[0m\u001b[0m\n\u001b[1;32m    476\u001b[0m     \u001b[0mself\u001b[0m\u001b[0;34m.\u001b[0m\u001b[0m_targets\u001b[0m \u001b[0;34m=\u001b[0m \u001b[0;34m[\u001b[0m\u001b[0;34m]\u001b[0m\u001b[0;34m\u001b[0m\u001b[0;34m\u001b[0m\u001b[0m\n",
      "\u001b[0;32m/anaconda3/lib/python3.7/site-packages/tensorflow/python/client/session.py\u001b[0m in \u001b[0;36mfor_fetch\u001b[0;34m(fetch)\u001b[0m\n\u001b[1;32m    262\u001b[0m     \u001b[0;32melif\u001b[0m \u001b[0misinstance\u001b[0m\u001b[0;34m(\u001b[0m\u001b[0mfetch\u001b[0m\u001b[0;34m,\u001b[0m \u001b[0;34m(\u001b[0m\u001b[0mlist\u001b[0m\u001b[0;34m,\u001b[0m \u001b[0mtuple\u001b[0m\u001b[0;34m)\u001b[0m\u001b[0;34m)\u001b[0m\u001b[0;34m:\u001b[0m\u001b[0;34m\u001b[0m\u001b[0;34m\u001b[0m\u001b[0m\n\u001b[1;32m    263\u001b[0m       \u001b[0;31m# NOTE(touts): This is also the code path for namedtuples.\u001b[0m\u001b[0;34m\u001b[0m\u001b[0;34m\u001b[0m\u001b[0;34m\u001b[0m\u001b[0m\n\u001b[0;32m--> 264\u001b[0;31m       \u001b[0;32mreturn\u001b[0m \u001b[0m_ListFetchMapper\u001b[0m\u001b[0;34m(\u001b[0m\u001b[0mfetch\u001b[0m\u001b[0;34m)\u001b[0m\u001b[0;34m\u001b[0m\u001b[0;34m\u001b[0m\u001b[0m\n\u001b[0m\u001b[1;32m    265\u001b[0m     \u001b[0;32melif\u001b[0m \u001b[0misinstance\u001b[0m\u001b[0;34m(\u001b[0m\u001b[0mfetch\u001b[0m\u001b[0;34m,\u001b[0m \u001b[0mcollections\u001b[0m\u001b[0;34m.\u001b[0m\u001b[0mMapping\u001b[0m\u001b[0;34m)\u001b[0m\u001b[0;34m:\u001b[0m\u001b[0;34m\u001b[0m\u001b[0;34m\u001b[0m\u001b[0m\n\u001b[1;32m    266\u001b[0m       \u001b[0;32mreturn\u001b[0m \u001b[0m_DictFetchMapper\u001b[0m\u001b[0;34m(\u001b[0m\u001b[0mfetch\u001b[0m\u001b[0;34m)\u001b[0m\u001b[0;34m\u001b[0m\u001b[0;34m\u001b[0m\u001b[0m\n",
      "\u001b[0;32m/anaconda3/lib/python3.7/site-packages/tensorflow/python/client/session.py\u001b[0m in \u001b[0;36m__init__\u001b[0;34m(self, fetches)\u001b[0m\n\u001b[1;32m    371\u001b[0m     \"\"\"\n\u001b[1;32m    372\u001b[0m     \u001b[0mself\u001b[0m\u001b[0;34m.\u001b[0m\u001b[0m_fetch_type\u001b[0m \u001b[0;34m=\u001b[0m \u001b[0mtype\u001b[0m\u001b[0;34m(\u001b[0m\u001b[0mfetches\u001b[0m\u001b[0;34m)\u001b[0m\u001b[0;34m\u001b[0m\u001b[0;34m\u001b[0m\u001b[0m\n\u001b[0;32m--> 373\u001b[0;31m     \u001b[0mself\u001b[0m\u001b[0;34m.\u001b[0m\u001b[0m_mappers\u001b[0m \u001b[0;34m=\u001b[0m \u001b[0;34m[\u001b[0m\u001b[0m_FetchMapper\u001b[0m\u001b[0;34m.\u001b[0m\u001b[0mfor_fetch\u001b[0m\u001b[0;34m(\u001b[0m\u001b[0mfetch\u001b[0m\u001b[0;34m)\u001b[0m \u001b[0;32mfor\u001b[0m \u001b[0mfetch\u001b[0m \u001b[0;32min\u001b[0m \u001b[0mfetches\u001b[0m\u001b[0;34m]\u001b[0m\u001b[0;34m\u001b[0m\u001b[0;34m\u001b[0m\u001b[0m\n\u001b[0m\u001b[1;32m    374\u001b[0m     \u001b[0mself\u001b[0m\u001b[0;34m.\u001b[0m\u001b[0m_unique_fetches\u001b[0m\u001b[0;34m,\u001b[0m \u001b[0mself\u001b[0m\u001b[0;34m.\u001b[0m\u001b[0m_value_indices\u001b[0m \u001b[0;34m=\u001b[0m \u001b[0m_uniquify_fetches\u001b[0m\u001b[0;34m(\u001b[0m\u001b[0mself\u001b[0m\u001b[0;34m.\u001b[0m\u001b[0m_mappers\u001b[0m\u001b[0;34m)\u001b[0m\u001b[0;34m\u001b[0m\u001b[0;34m\u001b[0m\u001b[0m\n\u001b[1;32m    375\u001b[0m \u001b[0;34m\u001b[0m\u001b[0m\n",
      "\u001b[0;32m/anaconda3/lib/python3.7/site-packages/tensorflow/python/client/session.py\u001b[0m in \u001b[0;36m<listcomp>\u001b[0;34m(.0)\u001b[0m\n\u001b[1;32m    371\u001b[0m     \"\"\"\n\u001b[1;32m    372\u001b[0m     \u001b[0mself\u001b[0m\u001b[0;34m.\u001b[0m\u001b[0m_fetch_type\u001b[0m \u001b[0;34m=\u001b[0m \u001b[0mtype\u001b[0m\u001b[0;34m(\u001b[0m\u001b[0mfetches\u001b[0m\u001b[0;34m)\u001b[0m\u001b[0;34m\u001b[0m\u001b[0;34m\u001b[0m\u001b[0m\n\u001b[0;32m--> 373\u001b[0;31m     \u001b[0mself\u001b[0m\u001b[0;34m.\u001b[0m\u001b[0m_mappers\u001b[0m \u001b[0;34m=\u001b[0m \u001b[0;34m[\u001b[0m\u001b[0m_FetchMapper\u001b[0m\u001b[0;34m.\u001b[0m\u001b[0mfor_fetch\u001b[0m\u001b[0;34m(\u001b[0m\u001b[0mfetch\u001b[0m\u001b[0;34m)\u001b[0m \u001b[0;32mfor\u001b[0m \u001b[0mfetch\u001b[0m \u001b[0;32min\u001b[0m \u001b[0mfetches\u001b[0m\u001b[0;34m]\u001b[0m\u001b[0;34m\u001b[0m\u001b[0;34m\u001b[0m\u001b[0m\n\u001b[0m\u001b[1;32m    374\u001b[0m     \u001b[0mself\u001b[0m\u001b[0;34m.\u001b[0m\u001b[0m_unique_fetches\u001b[0m\u001b[0;34m,\u001b[0m \u001b[0mself\u001b[0m\u001b[0;34m.\u001b[0m\u001b[0m_value_indices\u001b[0m \u001b[0;34m=\u001b[0m \u001b[0m_uniquify_fetches\u001b[0m\u001b[0;34m(\u001b[0m\u001b[0mself\u001b[0m\u001b[0;34m.\u001b[0m\u001b[0m_mappers\u001b[0m\u001b[0;34m)\u001b[0m\u001b[0;34m\u001b[0m\u001b[0;34m\u001b[0m\u001b[0m\n\u001b[1;32m    375\u001b[0m \u001b[0;34m\u001b[0m\u001b[0m\n",
      "\u001b[0;32m/anaconda3/lib/python3.7/site-packages/tensorflow/python/client/session.py\u001b[0m in \u001b[0;36mfor_fetch\u001b[0;34m(fetch)\u001b[0m\n\u001b[1;32m    259\u001b[0m     \u001b[0;32mif\u001b[0m \u001b[0mfetch\u001b[0m \u001b[0;32mis\u001b[0m \u001b[0;32mNone\u001b[0m\u001b[0;34m:\u001b[0m\u001b[0;34m\u001b[0m\u001b[0;34m\u001b[0m\u001b[0m\n\u001b[1;32m    260\u001b[0m       raise TypeError('Fetch argument %r has invalid type %r' % (fetch,\n\u001b[0;32m--> 261\u001b[0;31m                                                                  type(fetch)))\n\u001b[0m\u001b[1;32m    262\u001b[0m     \u001b[0;32melif\u001b[0m \u001b[0misinstance\u001b[0m\u001b[0;34m(\u001b[0m\u001b[0mfetch\u001b[0m\u001b[0;34m,\u001b[0m \u001b[0;34m(\u001b[0m\u001b[0mlist\u001b[0m\u001b[0;34m,\u001b[0m \u001b[0mtuple\u001b[0m\u001b[0;34m)\u001b[0m\u001b[0;34m)\u001b[0m\u001b[0;34m:\u001b[0m\u001b[0;34m\u001b[0m\u001b[0;34m\u001b[0m\u001b[0m\n\u001b[1;32m    263\u001b[0m       \u001b[0;31m# NOTE(touts): This is also the code path for namedtuples.\u001b[0m\u001b[0;34m\u001b[0m\u001b[0;34m\u001b[0m\u001b[0;34m\u001b[0m\u001b[0m\n",
      "\u001b[0;31mTypeError\u001b[0m: Fetch argument None has invalid type <class 'NoneType'>"
     ]
    }
   ],
   "source": [
    "outputTensor = model.output\n",
    "listOfVariableTensors = model.inputs[0]\n",
    "gradients = tf.gradients(outputTensor, listOfVariableTensors)\n",
    "sess = tf.InteractiveSession()\n",
    "sess.run(tf.initialize_all_variables())\n",
    "evaluated_gradients = sess.run(gradients,feed_dict={model.input:X[0].reshape(-1,1)})"
   ]
  },
  {
   "cell_type": "code",
   "execution_count": 11,
   "metadata": {},
   "outputs": [
    {
     "data": {
      "text/plain": [
       "[array([[-0.10907829]], dtype=float32), array([1.], dtype=float32)]"
      ]
     },
     "execution_count": 11,
     "metadata": {},
     "output_type": "execute_result"
    }
   ],
   "source": [
    "model.layers[0].get_weights()"
   ]
  },
  {
   "cell_type": "code",
   "execution_count": 12,
   "metadata": {},
   "outputs": [
    {
     "data": {
      "text/plain": [
       "[array([[-0.10907829]], dtype=float32)]"
      ]
     },
     "execution_count": 12,
     "metadata": {},
     "output_type": "execute_result"
    }
   ],
   "source": [
    "evaluated_gradients"
   ]
  },
  {
   "cell_type": "markdown",
   "metadata": {},
   "source": [
    "# Gradient Test"
   ]
  },
  {
   "cell_type": "code",
   "execution_count": 18,
   "metadata": {},
   "outputs": [
    {
     "name": "stderr",
     "output_type": "stream",
     "text": [
      "W0729 12:09:24.049191 4500092352 deprecation.py:323] From <ipython-input-18-5d5219640aa9>:10: softmax_cross_entropy_with_logits (from tensorflow.python.ops.nn_ops) is deprecated and will be removed in a future version.\n",
      "Instructions for updating:\n",
      "\n",
      "Future major versions of TensorFlow will allow gradients to flow\n",
      "into the labels input on backprop by default.\n",
      "\n",
      "See `tf.nn.softmax_cross_entropy_with_logits_v2`.\n",
      "\n"
     ]
    },
    {
     "name": "stdout",
     "output_type": "stream",
     "text": [
      "2.4087439 2.4087439\n",
      "True\n"
     ]
    }
   ],
   "source": [
    "import tensorflow as tf\n",
    "from random import randint\n",
    "\n",
    "dims = 8\n",
    "pos  = randint(0, dims - 1)\n",
    "\n",
    "logits = tf.random_uniform([dims], maxval=3, dtype=tf.float32)\n",
    "labels = tf.one_hot(pos, dims)\n",
    "\n",
    "res1 = tf.nn.softmax_cross_entropy_with_logits(       logits=logits, labels=labels)\n",
    "res2 = tf.nn.sparse_softmax_cross_entropy_with_logits(logits=logits, labels=tf.constant(pos))\n",
    "\n",
    "with tf.Session() as sess:\n",
    "    a, b = sess.run([res1, res2])\n",
    "    print (a, b)\n",
    "    print (a == b)"
   ]
  },
  {
   "cell_type": "markdown",
   "metadata": {},
   "source": [
    "# IMDB Test"
   ]
  },
  {
   "cell_type": "code",
   "execution_count": 19,
   "metadata": {},
   "outputs": [
    {
     "name": "stdout",
     "output_type": "stream",
     "text": [
      "Loading data...\n",
      "25000 train sequences\n",
      "25000 test sequences\n",
      "Pad sequences (samples x time)\n",
      "x_train shape: (25000, 80)\n",
      "x_test shape: (25000, 80)\n",
      "Build model...\n"
     ]
    },
    {
     "name": "stderr",
     "output_type": "stream",
     "text": [
      "W0805 17:10:54.816534 4500092352 deprecation.py:506] From /anaconda3/lib/python3.7/site-packages/keras/backend/tensorflow_backend.py:3445: calling dropout (from tensorflow.python.ops.nn_ops) with keep_prob is deprecated and will be removed in a future version.\n",
      "Instructions for updating:\n",
      "Please use `rate` instead of `keep_prob`. Rate should be set to `rate = 1 - keep_prob`.\n",
      "W0805 17:10:55.084730 4500092352 deprecation.py:323] From /anaconda3/lib/python3.7/site-packages/tensorflow/python/ops/nn_impl.py:180: add_dispatch_support.<locals>.wrapper (from tensorflow.python.ops.array_ops) is deprecated and will be removed in a future version.\n",
      "Instructions for updating:\n",
      "Use tf.where in 2.0, which has the same broadcast rule as np.where\n"
     ]
    },
    {
     "name": "stdout",
     "output_type": "stream",
     "text": [
      "Train...\n",
      "Train on 25000 samples, validate on 25000 samples\n",
      "Epoch 1/15\n",
      "25000/25000 [==============================] - 95s 4ms/step - loss: 0.4554 - acc: 0.7858 - val_loss: 0.3998 - val_acc: 0.8345\n",
      "Epoch 2/15\n",
      "25000/25000 [==============================] - 94s 4ms/step - loss: 0.3030 - acc: 0.8770 - val_loss: 0.4129 - val_acc: 0.8139\n",
      "Epoch 3/15\n",
      "25000/25000 [==============================] - 94s 4ms/step - loss: 0.2233 - acc: 0.9137 - val_loss: 0.4248 - val_acc: 0.8323\n",
      "Epoch 4/15\n",
      "25000/25000 [==============================] - 91s 4ms/step - loss: 0.1550 - acc: 0.9430 - val_loss: 0.4551 - val_acc: 0.8270\n",
      "Epoch 5/15\n",
      "25000/25000 [==============================] - 90s 4ms/step - loss: 0.1160 - acc: 0.9580 - val_loss: 0.5870 - val_acc: 0.8264\n",
      "Epoch 6/15\n",
      "25000/25000 [==============================] - 89s 4ms/step - loss: 0.0879 - acc: 0.9686 - val_loss: 0.5921 - val_acc: 0.8249\n",
      "Epoch 7/15\n",
      "25000/25000 [==============================] - 91s 4ms/step - loss: 0.0565 - acc: 0.9810 - val_loss: 0.7263 - val_acc: 0.8158\n",
      "Epoch 8/15\n",
      "25000/25000 [==============================] - 90s 4ms/step - loss: 0.0460 - acc: 0.9844 - val_loss: 0.7860 - val_acc: 0.8160\n",
      "Epoch 9/15\n",
      "25000/25000 [==============================] - 91s 4ms/step - loss: 0.0337 - acc: 0.9897 - val_loss: 0.8969 - val_acc: 0.8184\n",
      "Epoch 10/15\n",
      "25000/25000 [==============================] - 90s 4ms/step - loss: 0.0257 - acc: 0.9916 - val_loss: 0.9540 - val_acc: 0.8187\n",
      "Epoch 11/15\n",
      "25000/25000 [==============================] - 93s 4ms/step - loss: 0.0176 - acc: 0.9950 - val_loss: 0.9194 - val_acc: 0.8113\n",
      "Epoch 12/15\n",
      "25000/25000 [==============================] - 91s 4ms/step - loss: 0.0164 - acc: 0.9950 - val_loss: 0.9528 - val_acc: 0.8122\n",
      "Epoch 13/15\n",
      "25000/25000 [==============================] - 91s 4ms/step - loss: 0.0183 - acc: 0.9945 - val_loss: 0.9750 - val_acc: 0.8103\n",
      "Epoch 14/15\n",
      "25000/25000 [==============================] - 91s 4ms/step - loss: 0.0133 - acc: 0.9959 - val_loss: 0.9776 - val_acc: 0.8104\n",
      "Epoch 15/15\n",
      "25000/25000 [==============================] - 91s 4ms/step - loss: 0.0111 - acc: 0.9967 - val_loss: 1.0373 - val_acc: 0.8060\n",
      "25000/25000 [==============================] - 10s 416us/step\n",
      "Test score: 1.0372993650186062\n",
      "Test accuracy: 0.80596\n"
     ]
    }
   ],
   "source": [
    "from __future__ import print_function\n",
    "\n",
    "from keras.preprocessing import sequence\n",
    "from keras.models import Sequential\n",
    "from keras.layers import Dense, Embedding\n",
    "from keras.layers import LSTM\n",
    "from keras.datasets import imdb\n",
    "\n",
    "max_features = 20000\n",
    "# cut texts after this number of words (among top max_features most common words)\n",
    "maxlen = 80\n",
    "batch_size = 32\n",
    "\n",
    "print('Loading data...')\n",
    "(x_train, y_train), (x_test, y_test) = imdb.load_data(num_words=max_features)\n",
    "print(len(x_train), 'train sequences')\n",
    "print(len(x_test), 'test sequences')\n",
    "\n",
    "print('Pad sequences (samples x time)')\n",
    "x_train = sequence.pad_sequences(x_train, maxlen=maxlen)\n",
    "x_test = sequence.pad_sequences(x_test, maxlen=maxlen)\n",
    "print('x_train shape:', x_train.shape)\n",
    "print('x_test shape:', x_test.shape)\n",
    "\n",
    "print('Build model...')\n",
    "model = Sequential()\n",
    "model.add(Embedding(max_features, 128))\n",
    "model.add(LSTM(128, dropout=0.2, recurrent_dropout=0.2))\n",
    "model.add(Dense(1, activation='sigmoid'))\n",
    "\n",
    "# try using different optimizers and different optimizer configs\n",
    "model.compile(loss='binary_crossentropy',\n",
    "              optimizer='adam',\n",
    "              metrics=['accuracy'])\n",
    "\n",
    "print('Train...')\n",
    "model.fit(x_train, y_train,\n",
    "          batch_size=batch_size,\n",
    "          epochs=15,\n",
    "          validation_data=(x_test, y_test))\n",
    "score, acc = model.evaluate(x_test, y_test,\n",
    "                            batch_size=batch_size)\n",
    "print('Test score:', score)\n",
    "print('Test accuracy:', acc)"
   ]
  },
  {
   "cell_type": "code",
   "execution_count": 42,
   "metadata": {},
   "outputs": [
    {
     "data": {
      "text/plain": [
       "[<tf.Variable 'embedding_1/embeddings:0' shape=(20000, 128) dtype=float32_ref>,\n",
       " <tf.Variable 'lstm_1/kernel:0' shape=(128, 512) dtype=float32_ref>,\n",
       " <tf.Variable 'lstm_1/recurrent_kernel:0' shape=(128, 512) dtype=float32_ref>,\n",
       " <tf.Variable 'lstm_1/bias:0' shape=(512,) dtype=float32_ref>,\n",
       " <tf.Variable 'dense_4/kernel:0' shape=(128, 1) dtype=float32_ref>,\n",
       " <tf.Variable 'dense_4/bias:0' shape=(1,) dtype=float32_ref>]"
      ]
     },
     "execution_count": 42,
     "metadata": {},
     "output_type": "execute_result"
    }
   ],
   "source": [
    "model.trainable_weights"
   ]
  },
  {
   "cell_type": "code",
   "execution_count": 44,
   "metadata": {},
   "outputs": [],
   "source": [
    "outputTensor = model.output\n",
    "listOfVariableTensors = model.trainable_weights\n",
    "gradients = tf.gradients(outputTensor, listOfVariableTensors)"
   ]
  },
  {
   "cell_type": "code",
   "execution_count": 52,
   "metadata": {},
   "outputs": [
    {
     "data": {
      "text/plain": [
       "(80, 1)"
      ]
     },
     "execution_count": 52,
     "metadata": {},
     "output_type": "execute_result"
    }
   ],
   "source": []
  },
  {
   "cell_type": "code",
   "execution_count": 53,
   "metadata": {},
   "outputs": [
    {
     "name": "stderr",
     "output_type": "stream",
     "text": [
      "/anaconda3/lib/python3.7/site-packages/tensorflow/python/client/session.py:1735: UserWarning: An interactive session is already active. This can cause out-of-memory errors in some cases. You must explicitly call `InteractiveSession.close()` to release resources held by the other session(s).\n",
      "  warnings.warn('An interactive session is already active. This can '\n"
     ]
    }
   ],
   "source": [
    "sess = tf.InteractiveSession()\n",
    "sess.run(tf.initialize_all_variables())\n",
    "evaluated_gradients = sess.run(gradients,feed_dict={model.input:x_train[0].reshape(-1,1)})"
   ]
  },
  {
   "cell_type": "code",
   "execution_count": 56,
   "metadata": {},
   "outputs": [
    {
     "data": {
      "text/plain": [
       "array([   15,   256,     4,     2,     7,  3766,     5,   723,    36,\n",
       "          71,    43,   530,   476,    26,   400,   317,    46,     7,\n",
       "           4, 12118,  1029,    13,   104,    88,     4,   381,    15,\n",
       "         297,    98,    32,  2071,    56,    26,   141,     6,   194,\n",
       "        7486,    18,     4,   226,    22,    21,   134,   476,    26,\n",
       "         480,     5,   144,    30,  5535,    18,    51,    36,    28,\n",
       "         224,    92,    25,   104,     4,   226,    65,    16,    38,\n",
       "        1334,    88,    12,    16,   283,     5,    16,  4472,   113,\n",
       "         103,    32,    15,    16,  5345,    19,   178,    32],\n",
       "      dtype=int32)"
      ]
     },
     "execution_count": 56,
     "metadata": {},
     "output_type": "execute_result"
    }
   ],
   "source": [
    "x_train[0]"
   ]
  },
  {
   "cell_type": "code",
   "execution_count": 59,
   "metadata": {},
   "outputs": [
    {
     "data": {
      "text/plain": [
       "IndexedSlicesValue(values=array([[ 2.7242852e-03,  4.0505431e-03,  1.1173676e-04, ...,\n",
       "        -8.9879363e-04,  1.4633462e-03, -7.0275259e-03],\n",
       "       [ 2.9114098e-03,  4.2174039e-03,  2.3876190e-04, ...,\n",
       "        -9.3307858e-04,  1.3719096e-03, -7.0317956e-03],\n",
       "       [ 2.8904041e-03,  4.0378273e-03,  4.7502435e-05, ...,\n",
       "        -9.1432547e-04,  1.5129835e-03, -7.0051588e-03],\n",
       "       ...,\n",
       "       [ 2.7991657e-03,  3.8761070e-03,  9.7190714e-05, ...,\n",
       "        -8.6819183e-04,  1.3717442e-03, -7.0829610e-03],\n",
       "       [ 2.8634320e-03,  4.0161214e-03,  5.4811720e-05, ...,\n",
       "        -9.4301958e-04,  1.3748364e-03, -7.1229725e-03],\n",
       "       [ 2.7674010e-03,  3.9366805e-03, -1.2644870e-05, ...,\n",
       "        -9.5367950e-04,  1.3547722e-03, -6.9717499e-03]], dtype=float32), indices=array([   15,   256,     4,     2,     7,  3766,     5,   723,    36,\n",
       "          71,    43,   530,   476,    26,   400,   317,    46,     7,\n",
       "           4, 12118,  1029,    13,   104,    88,     4,   381,    15,\n",
       "         297,    98,    32,  2071,    56,    26,   141,     6,   194,\n",
       "        7486,    18,     4,   226,    22,    21,   134,   476,    26,\n",
       "         480,     5,   144,    30,  5535,    18,    51,    36,    28,\n",
       "         224,    92,    25,   104,     4,   226,    65,    16,    38,\n",
       "        1334,    88,    12,    16,   283,     5,    16,  4472,   113,\n",
       "         103,    32,    15,    16,  5345,    19,   178,    32],\n",
       "      dtype=int32), dense_shape=array([20000,   128], dtype=int32))"
      ]
     },
     "execution_count": 59,
     "metadata": {},
     "output_type": "execute_result"
    }
   ],
   "source": [
    "evaluated_gradients[0]"
   ]
  }
 ],
 "metadata": {
  "kernelspec": {
   "display_name": "Python 3",
   "language": "python",
   "name": "python3"
  },
  "language_info": {
   "codemirror_mode": {
    "name": "ipython",
    "version": 3
   },
   "file_extension": ".py",
   "mimetype": "text/x-python",
   "name": "python",
   "nbconvert_exporter": "python",
   "pygments_lexer": "ipython3",
   "version": "3.7.3"
  }
 },
 "nbformat": 4,
 "nbformat_minor": 2
}
